{
  "metadata": {
    "language_info": {
      "codemirror_mode": {
        "name": "python",
        "version": 3
      },
      "file_extension": ".py",
      "mimetype": "text/x-python",
      "name": "python",
      "nbconvert_exporter": "python",
      "pygments_lexer": "ipython3",
      "version": "3.8"
    },
    "kernelspec": {
      "name": "python",
      "display_name": "Python (Pyodide)",
      "language": "python"
    }
  },
  "nbformat_minor": 4,
  "nbformat": 4,
  "cells": [
    {
      "cell_type": "code",
      "source": "# SLICING \n\ndef slicing(li,start,end):\n    return li[start-1:end]\nx = [1,2,3,4,5,6]\n# Get element from second position to fifth position from list - [1, 2, 3, 4, 5, 6]\nprint(slicing(x,2,6))",
      "metadata": {
        "trusted": true
      },
      "execution_count": 20,
      "outputs": [
        {
          "name": "stdout",
          "text": "[2, 3, 4, 5, 6]\n",
          "output_type": "stream"
        }
      ]
    },
    {
      "cell_type": "code",
      "source": "# CONDITION \n#Check if string palindrome or not “ab”, “abc”, “aba”\n\ndef isPalindrome(strs):\n    for i in range(0, int(len(strs)/2)):\n        if strs[i] != strs[len(strs)-i-1]:\n            return False\n    return True\n\ns = [\"aba\",\"ab\",\"abc\"]\n\nfor ele in s:\n    print(isPalindrome(ele))\n    \n    \n",
      "metadata": {
        "trusted": true
      },
      "execution_count": 10,
      "outputs": [
        {
          "name": "stdout",
          "text": "True\nFalse\nFalse\n",
          "output_type": "stream"
        }
      ]
    },
    {
      "cell_type": "code",
      "source": "#LOOP\n#Check if string contains repeated characters “aab”, “abc”, “def”\n\ndef isRepeated(strs):\n    ans=str(sorted(strs))\n    for i in range(len(strs)-1):\n        if strs[i]==strs[i+1]:\n            return True\n    return False\n        \ns = [\"aab\",\"abc\",\"def\"]\n\nfor ele in s:\n    print(isRepeated(ele))",
      "metadata": {
        "trusted": true
      },
      "execution_count": 15,
      "outputs": [
        {
          "name": "stdout",
          "text": "True\nFalse\nFalse\n",
          "output_type": "stream"
        }
      ]
    },
    {
      "cell_type": "code",
      "source": "#Function\n\n#Convert all the above to function which can work on variadic number of arguments\nli = [\"aaab\",\"aba\",\"abc\",\"aabb\",\"abccba\",\"abcde\"]\n#slicing\nprint(slicing(li,3,6))\n#is palindrome\nfor x in li:\n    print(isPalindrome(x))\n#Repeated characters   \nfor y in li:\n    print(isRepeated(y))\n",
      "metadata": {
        "trusted": true
      },
      "execution_count": 22,
      "outputs": [
        {
          "name": "stdout",
          "text": "['abc', 'aabb', 'abccba', 'abcde']\nFalse\nTrue\nFalse\nFalse\nTrue\nFalse\nTrue\nFalse\nFalse\nTrue\nTrue\nFalse\n",
          "output_type": "stream"
        }
      ]
    },
    {
      "cell_type": "code",
      "source": "",
      "metadata": {},
      "execution_count": null,
      "outputs": []
    }
  ]
}